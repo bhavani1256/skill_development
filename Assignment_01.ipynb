{
 "cells": [
  {
   "cell_type": "markdown",
   "id": "548b84c2-e24f-4a12-98bb-5e7bd5ec86bd",
   "metadata": {},
   "source": [
    "# Python"
   ]
  },
  {
   "cell_type": "markdown",
   "id": "99fbfc45-ba9e-4766-8219-f5dbcacc8481",
   "metadata": {},
   "source": [
    "<a target=\"_blank\" href=\"https://colab.research.google.com/github/kgsb24/rishi-college/blob/main/assignments/Assignment_01.ipynb\">\n",
    "  <img src=\"https://colab.research.google.com/assets/colab-badge.svg\" alt=\"Open In Colab\"/>\n",
    "</a>"
   ]
  },
  {
   "cell_type": "markdown",
   "id": "07a1f870-f905-4703-8b65-12e83172133a",
   "metadata": {},
   "source": [
    "## Basic Python Fundamentals"
   ]
  },
  {
   "cell_type": "code",
   "execution_count": 2,
   "id": "502e1d87-2fdd-4588-a330-2af21268215e",
   "metadata": {},
   "outputs": [
    {
     "name": "stdout",
     "output_type": "stream",
     "text": [
      "<class 'int'>\n"
     ]
    }
   ],
   "source": [
    "# Write a Python program to declare a variable x with the value 10 and print its type.\n",
    "x=10\n",
    "print(type(x))\n"
   ]
  },
  {
   "cell_type": "code",
   "execution_count": 3,
   "id": "dae77579-4b7d-4f06-96e0-7bdfe43860d7",
   "metadata": {},
   "outputs": [
    {
     "name": "stdout",
     "output_type": "stream",
     "text": [
      "30\n"
     ]
    }
   ],
   "source": [
    "# Write a Python program to declare three variables a = 5, b = 10, and c = 15, and print their sum.\n",
    "a=5\n",
    "b=10\n",
    "c=15\n",
    "sum=a+b+c\n",
    "print(sum)"
   ]
  },
  {
   "cell_type": "code",
   "execution_count": 8,
   "id": "c32867b2-a615-426a-89ae-bd2793b6a4dc",
   "metadata": {},
   "outputs": [
    {
     "name": "stdout",
     "output_type": "stream",
     "text": [
      "<class 'int'>\n",
      "<class 'float'>\n",
      "<class 'str'>\n"
     ]
    }
   ],
   "source": [
    "# Write a Python program that checks and prints the type of a variable (e.g., int, float, str, etc.).\n",
    "x=5\n",
    "y=2.35\n",
    "z=\"yes\"\n",
    "print(type(x))\n",
    "print(type(y))\n",
    "print(type(z))"
   ]
  },
  {
   "cell_type": "code",
   "execution_count": 7,
   "id": "8b233e41-9d44-4869-9ead-afb3ff1c0b67",
   "metadata": {},
   "outputs": [
    {
     "name": "stdout",
     "output_type": "stream",
     "text": [
      "89\n",
      "-39\n",
      "1600\n",
      "0.390625\n"
     ]
    }
   ],
   "source": [
    "# Write a Python program to perform addition, subtraction, multiplication, and division on two numbers. (User input is required for the numbers)\n",
    "a=25\n",
    "b=64\n",
    "print(a+b)\n",
    "print(a-b)\n",
    "print(a*b)\n",
    "print(a/b)"
   ]
  },
  {
   "cell_type": "code",
   "execution_count": 1,
   "id": "629435bd-6bfa-44de-91d9-3b2937713257",
   "metadata": {},
   "outputs": [
    {
     "name": "stdout",
     "output_type": "stream",
     "text": [
      "String: 123\n",
      "Integer: 123\n",
      "Float: 123.0\n"
     ]
    }
   ],
   "source": [
    "# Write a Python program to convert a string \"123\" to an integer and a float and print the results.\n",
    "input_string = \"123\"\n",
    "integer_value = int(input_string)\n",
    "float_value = float(input_string)\n",
    "\n",
    "print(\"String:\", input_string)\n",
    "print(\"Integer:\", integer_value)\n",
    "print(\"Float:\", float_value)\n"
   ]
  },
  {
   "cell_type": "code",
   "execution_count": 4,
   "id": "599421f1-51c1-4653-9d78-b007fcc6861b",
   "metadata": {},
   "outputs": [
    {
     "name": "stdout",
     "output_type": "stream",
     "text": [
      "The first character of the string is: B\n"
     ]
    }
   ],
   "source": [
    "# Write a Python program to print the first character of a given string. (User input for the string)\n",
    "user_input = input(\"Enter a string: \")\n",
    "\n",
    "if user_input:\n",
    "    print(\"The first character of the string is:\", user_input[0])\n"
   ]
  },
  {
   "cell_type": "code",
   "execution_count": 5,
   "id": "3c817ec4",
   "metadata": {},
   "outputs": [
    {
     "name": "stdout",
     "output_type": "stream",
     "text": [
      "The string is empty. Please enter a valid string.\n"
     ]
    }
   ],
   "source": [
    "user_input = input(\"Enter a string: \")\n",
    "\n",
    "if user_input:\n",
    "    print(\"The first character of the string is:\", user_input[0])\n",
    "else:\n",
    "    print(\"The string is empty. Please enter a valid string.\")\n"
   ]
  },
  {
   "cell_type": "code",
   "execution_count": 6,
   "id": "6981effd",
   "metadata": {},
   "outputs": [
    {
     "name": "stdout",
     "output_type": "stream",
     "text": [
      "The first character of the string is: h\n"
     ]
    }
   ],
   "source": [
    "user_input = input(\"Enter a string: \")\n",
    "\n",
    "if user_input:\n",
    "    print(\"The first character of the string is:\", user_input[0])\n",
    "else:\n",
    "    print(\"The string is empty. Please enter a valid string.\")\n"
   ]
  },
  {
   "cell_type": "code",
   "execution_count": 7,
   "id": "54ee0a5d-415f-40b6-b82e-c0de12a002f9",
   "metadata": {},
   "outputs": [
    {
     "name": "stdout",
     "output_type": "stream",
     "text": [
      "The length of the string is: 8\n"
     ]
    }
   ],
   "source": [
    "# Write a Python program to print the length of a string. (User input for the string)\n",
    "user_input = input(\"Enter a string: \")\n",
    "string_length = len(user_input)\n",
    "print(f\"The length of the string is: {string_length}\")\n"
   ]
  },
  {
   "cell_type": "code",
   "execution_count": 8,
   "id": "65f44c33-618e-4337-a9d1-9de888c93a0a",
   "metadata": {},
   "outputs": [
    {
     "name": "stdout",
     "output_type": "stream",
     "text": [
      "The string contains only alphabets.\n"
     ]
    }
   ],
   "source": [
    "# Write a Python program to check if a given string contains only alphabets.\n",
    "user_input = input(\"Enter a string: \")\n",
    "if user_input.isalpha():\n",
    "    print(\"The string contains only alphabets.\")\n",
    "else:\n",
    "    print(\"The string contains characters other than alphabets.\")\n"
   ]
  },
  {
   "cell_type": "code",
   "execution_count": 9,
   "id": "37463128-2b51-4860-b6bf-40d3c03fbe84",
   "metadata": {},
   "outputs": [
    {
     "name": "stdout",
     "output_type": "stream",
     "text": [
      "The concatenated string is: RishiM.S\n"
     ]
    }
   ],
   "source": [
    "# Write a Python program to concatenate two strings. (User input for the strings)\n",
    "string1 = input(\"Enter the first string: \")\n",
    "string2 = input(\"Enter the second string: \")\n",
    "\n",
    "concatenated_string = string1 + string2\n",
    "print(\"The concatenated string is:\", concatenated_string)\n"
   ]
  },
  {
   "cell_type": "code",
   "execution_count": 11,
   "id": "b1c5d364-eccf-473a-b03a-ab15f3e917cf",
   "metadata": {},
   "outputs": [
    {
     "name": "stdout",
     "output_type": "stream",
     "text": [
      "The substring 'abc' is found at index 7.\n"
     ]
    }
   ],
   "source": [
    "# Write a Python program to find the index of a substring \"abc\" in a string. (User input for the string)\n",
    "user_input = input(\"Enter a string: \")\n",
    "substring = \"abc\"\n",
    "index = user_input.find(substring)\n",
    "\n",
    "if index != -1:\n",
    "    print(f\"The substring '{substring}' is found at index {index}.\")\n",
    "else:\n",
    "    print(f\"The substring '{substring}' is not found in the string.\")\n"
   ]
  },
  {
   "cell_type": "code",
   "execution_count": 14,
   "id": "cc92afd9-ba4b-4934-a79d-f26825b4efc2",
   "metadata": {},
   "outputs": [
    {
     "name": "stdout",
     "output_type": "stream",
     "text": [
      "Uppercase: RISHI\n",
      "Lowercase: rishi\n"
     ]
    }
   ],
   "source": [
    "# Write a Python program to convert a string to both uppercase and lowercase. (User input for the string)\n",
    "user_input = input(\"Enter a string: \")\n",
    "uppercase_string = user_input.upper()\n",
    "lowercase_string = user_input.lower()\n",
    "\n",
    "print(\"Uppercase:\", uppercase_string)\n",
    "print(\"Lowercase:\", lowercase_string)\n"
   ]
  },
  {
   "cell_type": "code",
   "execution_count": 16,
   "id": "f24f79b3-da8b-44bf-8310-c68442e86e3e",
   "metadata": {},
   "outputs": [
    {
     "name": "stdout",
     "output_type": "stream",
     "text": [
      "The character 'm' appears 3 times in the string.\n"
     ]
    }
   ],
   "source": [
    "# Write a Python program to count how many times a particular character appears in a string. (User input for string and character)\n",
    "user_input = input(\"Enter a string: \")\n",
    "character = input(\"Enter the character to count: \")\n",
    "\n",
    "if len(character) != 1:\n",
    "    print(\"Please enter a single character.\")\n",
    "else:\n",
    "    count = user_input.count(character)\n",
    "    print(f\"The character '{character}' appears {count} times in the string.\")\n"
   ]
  },
  {
   "cell_type": "code",
   "execution_count": 17,
   "id": "f2e8f25c-5c34-44eb-b749-7cc4c100b9a8",
   "metadata": {},
   "outputs": [
    {
     "name": "stdout",
     "output_type": "stream",
     "text": [
      "Hello, rani, Good Morning!\n"
     ]
    }
   ],
   "source": [
    "# Write a Python program to take the user's name as input and print a personalized greeting. (Hello, username, Good Morning)\n",
    "name = input(\"Enter your name: \")\n",
    "\n",
    "print(f\"Hello, {name}, Good Morning!\")\n"
   ]
  },
  {
   "cell_type": "code",
   "execution_count": 19,
   "id": "189296cf-77e6-4f48-b010-77458da5bc9d",
   "metadata": {},
   "outputs": [
    {
     "name": "stdout",
     "output_type": "stream",
     "text": [
      "The sum of 23.0 and 12.6 is: 35.6\n"
     ]
    }
   ],
   "source": [
    "# Write a Python program to take two numbers as input and print their sum.\n",
    "x1 = float(input(\"Enter the first number: \"))\n",
    "x2 = float(input(\"Enter the second number: \"))\n",
    "\n",
    "sum = x1 + x2\n",
    "\n",
    "print(f\"The sum of {x1} and {x2} is: {sum}\")\n"
   ]
  },
  {
   "cell_type": "code",
   "execution_count": 20,
   "id": "0563b26c-0218-47b8-9035-98beb73b0931",
   "metadata": {},
   "outputs": [
    {
     "name": "stdout",
     "output_type": "stream",
     "text": [
      "Hello sri, you are 26 years old.\n"
     ]
    }
   ],
   "source": [
    "# Write a Python program to format and display a string containing the user's name and age. (User input required)\n",
    "name = input(\"Enter your name: \")\n",
    "age = input(\"Enter your age: \")\n",
    "\n",
    "print(f\"Hello {name}, you are {age} years old.\")\n"
   ]
  },
  {
   "cell_type": "code",
   "execution_count": 21,
   "id": "35ccf1fb",
   "metadata": {},
   "outputs": [
    {
     "name": "stdout",
     "output_type": "stream",
     "text": [
      "Hii sri, are you 26 years old.\n"
     ]
    }
   ],
   "source": [
    "print(f\"Hii {name}, are you {age} years old.\")"
   ]
  },
  {
   "cell_type": "markdown",
   "id": "0bde6e5a-0415-4b06-8b5a-95fa252b34eb",
   "metadata": {},
   "source": [
    "## Control Structures (Conditionals and Loops)"
   ]
  },
  {
   "cell_type": "code",
   "execution_count": 28,
   "id": "aefff5f3-b61e-43e6-a458-7367ef1af9de",
   "metadata": {},
   "outputs": [
    {
     "name": "stdout",
     "output_type": "stream",
     "text": [
      "The number is positive.\n"
     ]
    }
   ],
   "source": [
    "# Write a Python program that takes a number as input and checks whether it is positive, negative, or zero.\n",
    "number = float(input(\"Enter a number: \"))\n",
    "\n",
    "if number > 0:\n",
    "    print(\"The number is positive.\")\n",
    "elif number < 0:\n",
    "    print(\"The number is negative.\")\n",
    "else:\n",
    "    print(\"The number is zero.\")\n"
   ]
  },
  {
   "cell_type": "code",
   "execution_count": 30,
   "id": "218e8a06",
   "metadata": {},
   "outputs": [
    {
     "name": "stdout",
     "output_type": "stream",
     "text": [
      "The number is negative.\n"
     ]
    }
   ],
   "source": [
    "number = float(input(\"Enter a number: \"))\n",
    "\n",
    "if number > 0:\n",
    "    print(\"The number is positive.\")\n",
    "elif number < 0:\n",
    "    print(\"The number is negative.\")\n",
    "else:\n",
    "    print(\"The number is zero.\")\n"
   ]
  },
  {
   "cell_type": "code",
   "execution_count": 31,
   "id": "18840d02",
   "metadata": {},
   "outputs": [
    {
     "name": "stdout",
     "output_type": "stream",
     "text": [
      "The number is zero.\n"
     ]
    }
   ],
   "source": [
    "\n",
    "number = float(input(\"Enter a number: \"))\n",
    "\n",
    "if number > 0:\n",
    "    print(\"The number is positive.\")\n",
    "elif number < 0:\n",
    "    print(\"The number is negative.\")\n",
    "else:\n",
    "    print(\"The number is zero.\")\n"
   ]
  },
  {
   "cell_type": "code",
   "execution_count": 32,
   "id": "4dc6d14b-6d22-4348-859a-2a03f9be65f7",
   "metadata": {},
   "outputs": [
    {
     "name": "stdout",
     "output_type": "stream",
     "text": [
      "The maximum of 25.0, 16.0, and 48.0 is: 48.0\n"
     ]
    }
   ],
   "source": [
    "# Write a Python program to find the maximum of three numbers. (User input for the numbers)\n",
    "num1 = float(input(\"Enter the first number: \"))\n",
    "num2 = float(input(\"Enter the second number: \"))\n",
    "num3 = float(input(\"Enter the third number: \"))\n",
    "\n",
    "max_num = max(num1, num2, num3)\n",
    "\n",
    "print(f\"The maximum of {num1}, {num2}, and {num3} is: {max_num}\")\n"
   ]
  },
  {
   "cell_type": "code",
   "execution_count": 34,
   "id": "3f6d1f45-eb68-4142-89d6-510046f21879",
   "metadata": {},
   "outputs": [
    {
     "name": "stdout",
     "output_type": "stream",
     "text": [
      "2020 is a leap year.\n"
     ]
    }
   ],
   "source": [
    "# Write a Python program to check if a year is a leap year. (User input for the year)\n",
    "year = int(input(\"Enter a year: \"))\n",
    "\n",
    "if (year % 4 == 0 and year % 100 != 0) or (year % 400 == 0):\n",
    "    print(f\"{year} is a leap year.\")\n",
    "else:\n",
    "    print(f\"{year} is not a leap year.\")\n"
   ]
  },
  {
   "cell_type": "code",
   "execution_count": 35,
   "id": "b6a07105-6fa5-4f70-b64b-ebd66afc3c2b",
   "metadata": {},
   "outputs": [
    {
     "name": "stdout",
     "output_type": "stream",
     "text": [
      "15 is divisible by both 3 and 5.\n"
     ]
    }
   ],
   "source": [
    "# Write a Python program to check if a number is divisible by both 3 and 5. (User input for the number)\n",
    "number = int(input(\"Enter a number: \"))\n",
    "\n",
    "if number % 3 == 0 and number % 5 == 0:\n",
    "    print(f\"{number} is divisible by both 3 and 5.\")\n",
    "else:\n",
    "    print(f\"{number} is not divisible by both 3 and 5.\")\n"
   ]
  },
  {
   "cell_type": "code",
   "execution_count": 37,
   "id": "d10c9005-b85d-42f9-81d0-65d149415888",
   "metadata": {},
   "outputs": [
    {
     "name": "stdout",
     "output_type": "stream",
     "text": [
      "'hello' is not a palindrome.\n"
     ]
    }
   ],
   "source": [
    "# Write a Python program to check if a string is a palindrome. (User input for the string)\n",
    "string = input(\"Enter a string: \")\n",
    "\n",
    "cleaned_string = string.replace(\" \", \"\").lower()\n",
    "\n",
    "if cleaned_string == cleaned_string[::-1]:\n",
    "    print(f\"'{string}' is a palindrome.\")\n",
    "else:\n",
    "    print(f\"'{string}' is not a palindrome.\")\n"
   ]
  },
  {
   "cell_type": "code",
   "execution_count": 22,
   "id": "82d76cdf-efc6-45c6-ab09-9d1f17b3d857",
   "metadata": {},
   "outputs": [
    {
     "name": "stdout",
     "output_type": "stream",
     "text": [
      "1\n",
      "2\n",
      "3\n",
      "4\n",
      "5\n",
      "6\n",
      "7\n",
      "8\n",
      "9\n",
      "10\n"
     ]
    }
   ],
   "source": [
    "# Write a Python program to print numbers from 1 to 10 using a for loop.\n",
    "for number in range(1, 11):\n",
    "    print(number)\n"
   ]
  },
  {
   "cell_type": "code",
   "execution_count": 25,
   "id": "d09e8994-e984-4c12-ab1e-1bfc6938a389",
   "metadata": {},
   "outputs": [
    {
     "name": "stdout",
     "output_type": "stream",
     "text": [
      "2\n",
      "4\n",
      "6\n",
      "8\n",
      "10\n",
      "12\n",
      "14\n",
      "16\n",
      "18\n",
      "20\n"
     ]
    }
   ],
   "source": [
    "# Write a Python program to print all even numbers from 1 to 20 using a while loop.\n",
    "for number in range(1, 21):\n",
    " if number % 2 == 0:\n",
    "        print(number)\n",
    "    "
   ]
  },
  {
   "cell_type": "code",
   "execution_count": 38,
   "id": "c09ca878-167e-49ca-97f0-247a43c9b472",
   "metadata": {},
   "outputs": [
    {
     "name": "stdout",
     "output_type": "stream",
     "text": [
      "8 x 1 = 8\n",
      "8 x 2 = 16\n",
      "8 x 3 = 24\n",
      "8 x 4 = 32\n",
      "8 x 5 = 40\n",
      "8 x 6 = 48\n",
      "8 x 7 = 56\n",
      "8 x 8 = 64\n",
      "8 x 9 = 72\n",
      "8 x 10 = 80\n"
     ]
    }
   ],
   "source": [
    "# Write a Python program to print the multiplication table of a given number using a for loop. (User input for the number)\n",
    "number = int(input(\"Enter a number to print its multiplication table: \"))\n",
    "\n",
    "for i in range(1, 11):\n",
    "    print(f\"{number} x {i} = {number * i}\")\n"
   ]
  },
  {
   "cell_type": "code",
   "execution_count": 40,
   "id": "b72118ab-e62d-4af9-bcec-e1cc6af31b25",
   "metadata": {},
   "outputs": [
    {
     "name": "stdout",
     "output_type": "stream",
     "text": [
      "The sum of all numbers from 1 to 15 is 120\n"
     ]
    }
   ],
   "source": [
    "# Write a Python program to calculate the sum of all numbers from 1 to n using a while loop. (User input for n)\n",
    "n = int(input(\"Enter a number: \"))\n",
    "sum_of_numbers = 0\n",
    "i = 1\n",
    "while i <= n:\n",
    "    sum_of_numbers += i\n",
    "    i += 1\n",
    "print(f\"The sum of all numbers from 1 to {n} is {sum_of_numbers}\")\n"
   ]
  },
  {
   "cell_type": "code",
   "execution_count": 43,
   "id": "ae93621f-11a2-40b7-97bc-3002f03ac36a",
   "metadata": {},
   "outputs": [
    {
     "name": "stdout",
     "output_type": "stream",
     "text": [
      "The factorial of 15 is 1307674368000\n"
     ]
    }
   ],
   "source": [
    "# Write a Python program to calculate the factorial of a number using a while loop. (User input for the number)\n",
    "num = int(input(\"Enter a number to calculate its factorial: \"))\n",
    "factorial = 1\n",
    "if num < 0:\n",
    "    print(\"Factorial does not exist for negative numbers\")\n",
    "else:\n",
    "    i = 1\n",
    "    while i <= num:\n",
    "        factorial *= i\n",
    "        i += 1\n",
    "    print(f\"The factorial of {num} is {factorial}\")\n"
   ]
  },
  {
   "cell_type": "code",
   "execution_count": 44,
   "id": "68467ccc-d696-4ef1-84c4-164c9d87f755",
   "metadata": {},
   "outputs": [
    {
     "name": "stdout",
     "output_type": "stream",
     "text": [
      "Fibonacci sequence up to 9 terms:\n",
      "0 1 1 2 3 5 8 13 21 "
     ]
    }
   ],
   "source": [
    "# Write a Python program to print the Fibonacci sequence up to n terms. (User input for n)\n",
    "n = int(input(\"Enter the number of terms in the Fibonacci sequence: \"))\n",
    "a, b = 0, 1\n",
    "if n <= 0:\n",
    "    print(\"Please enter a positive integer.\")\n",
    "elif n == 1:\n",
    "    print(f\"Fibonacci sequence up to {n} term: {a}\")\n",
    "else:\n",
    "    print(f\"Fibonacci sequence up to {n} terms:\")\n",
    "    print(a, end=\" \")\n",
    "    for _ in range(1, n):\n",
    "        print(b, end=\" \")\n",
    "        a, b = b, a + b\n"
   ]
  },
  {
   "cell_type": "code",
   "execution_count": 45,
   "id": "5bebd1f3-2606-4102-aa55-01cb1650f632",
   "metadata": {},
   "outputs": [
    {
     "name": "stdout",
     "output_type": "stream",
     "text": [
      "Prime numbers from 1 to 100:\n",
      "2 3 5 7 11 13 17 19 23 29 31 37 41 43 47 53 59 61 67 71 73 79 83 89 97 "
     ]
    }
   ],
   "source": [
    "# Write a Python program to find all the prime numbers from 1 to 100.\n",
    "def is_prime(num):\n",
    "    if num <= 1:\n",
    "        return False\n",
    "    for i in range(2, int(num ** 0.5) + 1):  \n",
    "        if num % i == 0:\n",
    "            return False\n",
    "    return True\n",
    "print(\"Prime numbers from 1 to 100:\")\n",
    "for num in range(1, 101):\n",
    "    if is_prime(num):\n",
    "        print(num, end=\" \")\n"
   ]
  },
  {
   "cell_type": "code",
   "execution_count": 46,
   "id": "0a3f894e-52ba-4c0b-9158-a70f31f4fd49",
   "metadata": {},
   "outputs": [
    {
     "name": "stdout",
     "output_type": "stream",
     "text": [
      "Number greater than 50 found: 51\n"
     ]
    }
   ],
   "source": [
    "# Write a Python program that breaks out of a loop when a specific condition is met (e.g., when a number greater than 50 is found).\n",
    "for num in range(1, 101):\n",
    "    if num > 50:\n",
    "        print(f\"Number greater than 50 found: {num}\")\n",
    "        break  \n"
   ]
  },
  {
   "cell_type": "code",
   "execution_count": 47,
   "id": "499b91d0-1f1b-494f-af2b-8cc3a06d90ed",
   "metadata": {},
   "outputs": [
    {
     "name": "stdout",
     "output_type": "stream",
     "text": [
      "1 3 5 7 9 11 13 15 17 19 "
     ]
    }
   ],
   "source": [
    "# Write a Python program to skip even numbers while printing numbers from 1 to 20 using a for loop.\n",
    "for num in range(1, 21):\n",
    "    if num % 2 == 0:\n",
    "        continue\n",
    "    print(num, end=\" \")\n"
   ]
  },
  {
   "cell_type": "code",
   "execution_count": 49,
   "id": "f8ffed70-dfde-4262-a2fd-0d35d69b5fb1",
   "metadata": {},
   "outputs": [
    {
     "name": "stdout",
     "output_type": "stream",
     "text": [
      "The character 'l' appears 3 times in the string.\n"
     ]
    }
   ],
   "source": [
    "# Write a Python program to count how many times a particular character appears in a string using a for loop. (User input for string and character)\n",
    "string = input(\"Enter a string: \")\n",
    "char = input(\"Enter the character to count: \")\n",
    "count = 0\n",
    "for c in string:\n",
    "    if c == char:\n",
    "        count += 1\n",
    "print(f\"The character '{char}' appears {count} times in the string.\")\n"
   ]
  },
  {
   "cell_type": "code",
   "execution_count": 52,
   "id": "01f976ed-4dcd-4842-ae84-d3b5cc42d011",
   "metadata": {},
   "outputs": [
    {
     "name": "stdout",
     "output_type": "stream",
     "text": [
      "The sum of the digits is: 45\n"
     ]
    }
   ],
   "source": [
    "# Write a Python program to calculate the sum of digits of a number. (User input for the number)\n",
    "number = int(input(\"Enter a number: \"))\n",
    "sum_of_digits = 0\n",
    "while number > 0:\n",
    "    digit = number % 10  \n",
    "    sum_of_digits += digit \n",
    "    number = number // 10  \n",
    "print(f\"The sum of the digits is: {sum_of_digits}\")\n"
   ]
  },
  {
   "cell_type": "markdown",
   "id": "fe644fae-f262-48dd-b7ff-08eb747d297e",
   "metadata": {},
   "source": [
    "## Data Structures (Lists, Tuples, Sets, Dictionaries)"
   ]
  },
  {
   "cell_type": "code",
   "execution_count": 76,
   "id": "a0333c26-8e19-4c71-9722-d32cf8625ef6",
   "metadata": {},
   "outputs": [
    {
     "name": "stdout",
     "output_type": "stream",
     "text": [
      "The sum of the elements is: 150\n"
     ]
    }
   ],
   "source": [
    "# Write a Python program to create a list of integers and print the sum of the elements.\n",
    "numbers = [10, 20, 30, 40, 50]\n",
    "\n",
    "total_sum = 0\n",
    "for num in numbers:\n",
    "    total_sum += num\n",
    "print(\"The sum of the elements is:\", total_sum)\n",
    "\n"
   ]
  },
  {
   "cell_type": "code",
   "execution_count": 2,
   "id": "5a23046d-80b0-4f8d-a02f-4e3d833c0443",
   "metadata": {},
   "outputs": [
    {
     "name": "stdout",
     "output_type": "stream",
     "text": [
      "The largest element in the list is: 98\n"
     ]
    }
   ],
   "source": [
    "# Write a Python program to find the largest element in a list.\n",
    "numbers = [10, 45, 2, 98, 23, 56]  \n",
    "largest_element = max(numbers)\n",
    "print(\"The largest element in the list is:\", largest_element)\n"
   ]
  },
  {
   "cell_type": "code",
   "execution_count": 4,
   "id": "9939c2d2-90fd-4e80-81bc-227c72e60e37",
   "metadata": {},
   "outputs": [
    {
     "name": "stdout",
     "output_type": "stream",
     "text": [
      "The reversed list is: [5, 4, 3, 2, 1]\n"
     ]
    }
   ],
   "source": [
    "# Write a Python program to reverse a list.\n",
    "my_list = [1, 2, 3, 4, 5]  \n",
    "\n",
    "reversed_list = my_list[::-1]  \n",
    "print(\"The reversed list is:\", reversed_list)\n"
   ]
  },
  {
   "cell_type": "code",
   "execution_count": 6,
   "id": "aa287db8-057b-48d4-a6d8-18cc53eb7178",
   "metadata": {},
   "outputs": [
    {
     "name": "stdout",
     "output_type": "stream",
     "text": [
      "List after removing all occurrences of 2 : [1, 3, 4, 5, 6]\n"
     ]
    }
   ],
   "source": [
    "# Write a Python program to remove all occurrences of a specific element from a list.\n",
    "my_list = [1, 2, 3, 4, 2, 5, 2, 6]\n",
    "element_to_remove = 2  \n",
    "\n",
    "filtered_list = [item for item in my_list if item != element_to_remove]\n",
    "print(\"List after removing all occurrences of\", element_to_remove, \":\", filtered_list)\n"
   ]
  },
  {
   "cell_type": "code",
   "execution_count": 8,
   "id": "da9ba926-0ab5-46e9-b66d-128088c3225b",
   "metadata": {},
   "outputs": [
    {
     "name": "stdout",
     "output_type": "stream",
     "text": [
      "The index of 30 is: 2\n"
     ]
    }
   ],
   "source": [
    "# Write a Python program to find the index of an element in a list.\n",
    "my_list = [10, 20, 30, 40, 50]  \n",
    "element_to_find = 30  \n",
    "\n",
    "if element_to_find in my_list:\n",
    "    index = my_list.index(element_to_find)\n",
    "    print(f\"The index of {element_to_find} is: {index}\")\n",
    "else:\n",
    "    print(f\"{element_to_find} is not in the list.\")\n"
   ]
  },
  {
   "cell_type": "code",
   "execution_count": 10,
   "id": "9601b6e4-cb90-4e1f-87b4-38ed37076e0d",
   "metadata": {},
   "outputs": [
    {
     "name": "stdout",
     "output_type": "stream",
     "text": [
      "15 exists in the list.\n"
     ]
    }
   ],
   "source": [
    "# Write a Python program to find if a specific element exists in a list.\n",
    "my_list = [5, 10, 15, 20, 25]  \n",
    "element_to_check = 15  \n",
    "\n",
    "if element_to_check in my_list:\n",
    "    print(f\"{element_to_check} exists in the list.\")\n",
    "else:\n",
    "    print(f\"{element_to_check} does not exist in the list.\")\n"
   ]
  },
  {
   "cell_type": "code",
   "execution_count": 11,
   "id": "9d8e7311-81de-4da2-826c-c4dcad28ed9f",
   "metadata": {},
   "outputs": [
    {
     "name": "stdout",
     "output_type": "stream",
     "text": [
      "List after removing duplicates: [1, 2, 3, 4, 5]\n"
     ]
    }
   ],
   "source": [
    "# Write a Python program to remove duplicates from a list.\n",
    "my_list = [1, 2, 2, 3, 4, 4, 5, 1]  \n",
    "unique_list = list(dict.fromkeys(my_list))\n",
    "\n",
    "print(\"List after removing duplicates:\", unique_list)\n"
   ]
  },
  {
   "cell_type": "code",
   "execution_count": 13,
   "id": "09e5121b-97b3-42e4-8025-f28f3470681b",
   "metadata": {},
   "outputs": [
    {
     "name": "stdout",
     "output_type": "stream",
     "text": [
      "The element 2 occurs 3 times in the list.\n"
     ]
    }
   ],
   "source": [
    "# Write a Python program to count the occurrences of an element in a list.\n",
    "my_list = [1, 2, 2, 3, 4, 2, 5, 3] \n",
    "element_to_count = 2  \n",
    "count = my_list.count(element_to_count)\n",
    "print(f\"The element {element_to_count} occurs {count} times in the list.\")\n"
   ]
  },
  {
   "cell_type": "code",
   "execution_count": 15,
   "id": "b774b741-e9a6-45db-8f00-e6d9b734d03a",
   "metadata": {},
   "outputs": [
    {
     "name": "stdout",
     "output_type": "stream",
     "text": [
      "The number of even numbers in the list is: 4\n"
     ]
    }
   ],
   "source": [
    "# Write a Python program to get the number of even numbers in a list.\n",
    "my_list = [1, 2, 3, 4, 5, 6, 7, 8]  \n",
    "even_count = len([num for num in my_list if num % 2 == 0])\n",
    "print(f\"The number of even numbers in the list is: {even_count}\")\n"
   ]
  },
  {
   "cell_type": "code",
   "execution_count": 17,
   "id": "5ce4fd2b-ab16-4b40-9ac2-d19c244d8d96",
   "metadata": {},
   "outputs": [
    {
     "name": "stdout",
     "output_type": "stream",
     "text": [
      "The created tuple is: (1, 2, 3, 4, 5)\n"
     ]
    }
   ],
   "source": [
    "# Write a Python program to create a tuple and print it.\n",
    "my_tuple = (1, 2, 3, 4, 5)  \n",
    "print(\"The created tuple is:\", my_tuple)\n"
   ]
  },
  {
   "cell_type": "code",
   "execution_count": 19,
   "id": "5c04f880-6e96-4ef4-9f4b-df21aae76ff1",
   "metadata": {},
   "outputs": [
    {
     "name": "stdout",
     "output_type": "stream",
     "text": [
      "Original tuple: (1, 2, 3, 4, 5)\n",
      "Converted to list: [1, 2, 3, 4, 5]\n",
      "Original list: [6, 7, 8, 9]\n",
      "Converted to tuple: (6, 7, 8, 9)\n"
     ]
    }
   ],
   "source": [
    "# Write a Python program to convert a tuple to a list and vice versa.\n",
    "my_tuple = (1, 2, 3, 4, 5)  \n",
    "my_list = list(my_tuple)  \n",
    "my_new_list = [6, 7, 8, 9]  \n",
    "new_tuple = tuple(my_new_list)  \n",
    "\n",
    "print(\"Original tuple:\", my_tuple)\n",
    "print(\"Converted to list:\", my_list)\n",
    "print(\"Original list:\", my_new_list)\n",
    "print(\"Converted to tuple:\", new_tuple)\n"
   ]
  },
  {
   "cell_type": "code",
   "execution_count": 20,
   "id": "d5192acc-27f3-456e-9c72-3b276a587bf5",
   "metadata": {},
   "outputs": [
    {
     "name": "stdout",
     "output_type": "stream",
     "text": [
      "The maximum value in the tuple is: 99\n",
      "The minimum value in the tuple is: -5\n"
     ]
    }
   ],
   "source": [
    "# Write a Python program to find the maximum and minimum values in a tuple.\n",
    "my_tuple = (10, 20, 4, 45, 99, -5)  \n",
    "max_value = max(my_tuple)\n",
    "min_value = min(my_tuple)\n",
    "\n",
    "print(\"The maximum value in the tuple is:\", max_value)\n",
    "print(\"The minimum value in the tuple is:\", min_value)\n"
   ]
  },
  {
   "cell_type": "code",
   "execution_count": 21,
   "id": "43f0a340-9407-4302-af7e-4e63db578bbf",
   "metadata": {},
   "outputs": [
    {
     "name": "stdout",
     "output_type": "stream",
     "text": [
      "Unpacked values:\n",
      "a = 10\n",
      "b = 20\n",
      "c = 30\n"
     ]
    }
   ],
   "source": [
    "# Write a Python program to unpack a tuple into variables.\n",
    "my_tuple = (10, 20, 30) \n",
    "\n",
    "a, b, c = my_tuple\n",
    "print(\"Unpacked values:\")\n",
    "print(\"a =\", a)\n",
    "print(\"b =\", b)\n",
    "print(\"c =\", c)\n"
   ]
  },
  {
   "cell_type": "code",
   "execution_count": 23,
   "id": "46e96e29-2157-4b9f-bb24-0bd973eada9f",
   "metadata": {},
   "outputs": [
    {
     "name": "stdout",
     "output_type": "stream",
     "text": [
      "3 exists in the set.\n",
      "Updated set: {1, 2, 3, 4, 5, 6}\n"
     ]
    }
   ],
   "source": [
    "# Write a Python program to add an element to a set and check if an element exists in the set.\n",
    "my_set = {1, 2, 3, 4, 5}  \n",
    "\n",
    "my_set.add(6)  \n",
    "element_to_check = 3\n",
    "if element_to_check in my_set:\n",
    "    print(f\"{element_to_check} exists in the set.\")\n",
    "else:\n",
    "    print(f\"{element_to_check} does not exist in the set.\")\n",
    "print(\"Updated set:\", my_set)\n"
   ]
  },
  {
   "cell_type": "code",
   "execution_count": 24,
   "id": "d81a803b-fd80-403e-9ae3-680ef44a3d86",
   "metadata": {},
   "outputs": [
    {
     "name": "stdout",
     "output_type": "stream",
     "text": [
      "The created dictionary is: {'name': 'Alice', 'age': 25, 'city': 'New York', 'occupation': 'Engineer'}\n"
     ]
    }
   ],
   "source": [
    "# Write a Python program to create a dictionary with keys and values and print it.\n",
    "my_dict = {\n",
    "    \"name\": \"Alice\",\n",
    "    \"age\": 25,\n",
    "    \"city\": \"New York\",\n",
    "    \"occupation\": \"Engineer\"\n",
    "}  \n",
    "print(\"The created dictionary is:\", my_dict)\n"
   ]
  },
  {
   "cell_type": "code",
   "execution_count": 26,
   "id": "7432174b-fe75-4371-b23a-e2c5d62edb15",
   "metadata": {},
   "outputs": [
    {
     "name": "stdout",
     "output_type": "stream",
     "text": [
      "The value associated with the key 'city' is: New York\n"
     ]
    }
   ],
   "source": [
    "# Write a Python program to access a dictionary value using a key.\n",
    "my_dict = {\n",
    "    \"name\": \"Alice\",\n",
    "    \"age\": 25,\n",
    "    \"city\": \"New York\",\n",
    "    \"occupation\": \"Engineer\"\n",
    "}  \n",
    "key_to_access = \"city\"\n",
    "value = my_dict.get(key_to_access)  \n",
    "if value:\n",
    "    print(f\"The value associated with the key '{key_to_access}' is: {value}\")\n",
    "else:\n",
    "    print(f\"The key '{key_to_access}' does not exist in the dictionary.\")\n"
   ]
  },
  {
   "cell_type": "code",
   "execution_count": 27,
   "id": "000b3260-d91f-41f2-9729-4b0124f2c4d2",
   "metadata": {},
   "outputs": [
    {
     "name": "stdout",
     "output_type": "stream",
     "text": [
      "The key 'age' exists in the dictionary.\n"
     ]
    }
   ],
   "source": [
    "# Write a Python program to check if a key exists in a dictionary.\n",
    "my_dict = {\n",
    "    \"name\": \"Alice\",\n",
    "    \"age\": 25,\n",
    "    \"city\": \"New York\",\n",
    "    \"occupation\": \"Engineer\"\n",
    "}  \n",
    "key_to_check = \"age\"\n",
    "\n",
    "if key_to_check in my_dict:\n",
    "    print(f\"The key '{key_to_check}' exists in the dictionary.\")\n",
    "else:\n",
    "    print(f\"The key '{key_to_check}' does not exist in the dictionary.\")\n"
   ]
  },
  {
   "cell_type": "code",
   "execution_count": 28,
   "id": "c4b1a942-818e-42c1-b742-1fabe80fca6d",
   "metadata": {},
   "outputs": [
    {
     "name": "stdout",
     "output_type": "stream",
     "text": [
      "Merged dictionary: {'name': 'Alice', 'age': 25, 'city': 'New York', 'occupation': 'Engineer'}\n"
     ]
    }
   ],
   "source": [
    "# Write a Python program to merge two dictionaries.\n",
    "dict1 = {\"name\": \"Alice\", \"age\": 25}\n",
    "dict2 = {\"city\": \"New York\", \"occupation\": \"Engineer\"}\n",
    "merged_dict = {**dict1, **dict2}  \n",
    "print(\"Merged dictionary:\", merged_dict)\n"
   ]
  },
  {
   "cell_type": "code",
   "execution_count": 29,
   "id": "a78f1070-3ff3-436a-8391-153f019f53cd",
   "metadata": {},
   "outputs": [
    {
     "name": "stdout",
     "output_type": "stream",
     "text": [
      "Key 'age' has been removed.\n",
      "Updated dictionary: {'name': 'Alice', 'city': 'New York', 'occupation': 'Engineer'}\n"
     ]
    }
   ],
   "source": [
    "# Write a Python program to remove a key from a dictionary.\n",
    "my_dict = {\n",
    "    \"name\": \"Alice\",\n",
    "    \"age\": 25,\n",
    "    \"city\": \"New York\",\n",
    "    \"occupation\": \"Engineer\"\n",
    "}  \n",
    "key_to_remove = \"age\"\n",
    "if key_to_remove in my_dict:\n",
    "    del my_dict[key_to_remove]\n",
    "    print(f\"Key '{key_to_remove}' has been removed.\")\n",
    "else:\n",
    "    print(f\"Key '{key_to_remove}' not found in the dictionary.\")\n",
    "print(\"Updated dictionary:\", my_dict)\n"
   ]
  },
  {
   "cell_type": "code",
   "execution_count": 30,
   "id": "fcba0267-8cc4-4e89-9e78-2d820916c177",
   "metadata": {},
   "outputs": [
    {
     "name": "stdout",
     "output_type": "stream",
     "text": [
      "The number of keys in the dictionary is: 4\n"
     ]
    }
   ],
   "source": [
    "# Write a Python program to get the number of keys in a dictionary.\n",
    "my_dict = {\n",
    "    \"name\": \"Alice\",\n",
    "    \"age\": 25,\n",
    "    \"city\": \"New York\",\n",
    "    \"occupation\": \"Engineer\"\n",
    "}  \n",
    "num_keys = len(my_dict)\n",
    "print(f\"The number of keys in the dictionary is: {num_keys}\")\n"
   ]
  },
  {
   "cell_type": "code",
   "execution_count": 31,
   "id": "d4c5fd77-9656-43e5-8fe2-be7dca23eb6d",
   "metadata": {},
   "outputs": [
    {
     "name": "stdout",
     "output_type": "stream",
     "text": [
      "The largest value in the dictionary is: 40, associated with the key 'apple'.\n",
      "The smallest value in the dictionary is: 10, associated with the key 'banana'.\n"
     ]
    }
   ],
   "source": [
    "# Write a Python program to find the largest and smallest values in a dictionary.\n",
    "my_dict = {\n",
    "    \"apple\": 40,\n",
    "    \"banana\": 10,\n",
    "    \"cherry\": 25,\n",
    "    \"date\": 30\n",
    "} \n",
    "\n",
    "max_value = max(my_dict.values())  \n",
    "min_value = min(my_dict.values())  \n",
    "max_key = [key for key, value in my_dict.items() if value == max_value][0]\n",
    "min_key = [key for key, value in my_dict.items() if value == min_value][0]\n",
    "print(f\"The largest value in the dictionary is: {max_value}, associated with the key '{max_key}'.\")\n",
    "print(f\"The smallest value in the dictionary is: {min_value}, associated with the key '{min_key}'.\")\n"
   ]
  },
  {
   "cell_type": "markdown",
   "id": "7830b8cc-9a90-45a2-8e4a-6f3c2b8b133b",
   "metadata": {},
   "source": [
    "## Functions (User-Defined, Arguments, Keyword Arguments, Return Values)"
   ]
  },
  {
   "cell_type": "code",
   "execution_count": 35,
   "id": "06a33fba-c6b1-4989-90f4-b647d1fe1627",
   "metadata": {},
   "outputs": [
    {
     "name": "stdout",
     "output_type": "stream",
     "text": [
      "36\n"
     ]
    }
   ],
   "source": [
    "# Write a Python function that returns the square of a number.\n",
    "\n",
    "result = square(6)\n",
    "print(result)  \n"
   ]
  },
  {
   "cell_type": "code",
   "execution_count": 37,
   "id": "91d90a4a-7329-45db-893b-caed8450ba96",
   "metadata": {},
   "outputs": [
    {
     "name": "stdout",
     "output_type": "stream",
     "text": [
      "10\n"
     ]
    }
   ],
   "source": [
    "# Write a Python function that accepts two parameters and returns their sum.\n",
    "def add_numbers(a, b):\n",
    "    return a + b\n",
    "\n",
    "result = add_numbers(3, 7)\n",
    "print(result)  \n"
   ]
  },
  {
   "cell_type": "code",
   "execution_count": 43,
   "id": "dec2f9a5-90c5-478b-890b-0a506ecf45d3",
   "metadata": {},
   "outputs": [
    {
     "name": "stdout",
     "output_type": "stream",
     "text": [
      "True\n"
     ]
    }
   ],
   "source": [
    "# Write a Python function to check if a given number is prime.\n",
    "def is_prime(number):\n",
    "    if number <= 1:\n",
    "        return False\n",
    "    for i in range(2, int(number**0.5) + 1):\n",
    "        if number % i == 0:\n",
    "            return False\n",
    "    return True\n",
    "result = is_prime(11)\n",
    "print(result)  \n",
    "\n",
    "\n"
   ]
  },
  {
   "cell_type": "code",
   "execution_count": 44,
   "id": "128311fb",
   "metadata": {},
   "outputs": [
    {
     "name": "stdout",
     "output_type": "stream",
     "text": [
      "False\n"
     ]
    }
   ],
   "source": [
    "result = is_prime(10)\n",
    "print(result)  "
   ]
  },
  {
   "cell_type": "code",
   "execution_count": 46,
   "id": "56337441-68c3-45df-8733-a34cde0533a5",
   "metadata": {},
   "outputs": [
    {
     "name": "stdout",
     "output_type": "stream",
     "text": [
      "False\n",
      "1\n"
     ]
    }
   ],
   "source": [
    "# Write a Python function to calculate the factorial of a number using recursion.\n",
    "def factorial(n):\n",
    "    if n == 0 or n == 1:\n",
    "        return 1\n",
    "    else:\n",
    "        return n * factorial(n - 1)\n",
    "        result = factorial(5)\n",
    "print(result)  \n",
    "\n",
    "result = factorial(0)\n",
    "print(result)  \n",
    "\n"
   ]
  },
  {
   "cell_type": "code",
   "execution_count": 49,
   "id": "84a2d010-e7b2-409b-b1f4-99bf806bb77a",
   "metadata": {},
   "outputs": [
    {
     "name": "stdout",
     "output_type": "stream",
     "text": [
      "8\n"
     ]
    }
   ],
   "source": [
    "# Write a Python function to calculate the power of a number using recursion.\n",
    "def power(base, exponent):\n",
    "    if exponent == 0:\n",
    "        return 1  \n",
    "    else:\n",
    "        return base * power(base, exponent - 1)  \n",
    "\n",
    "result = power(2, 3)\n",
    "print(result)  \n",
    "\n"
   ]
  },
  {
   "cell_type": "code",
   "execution_count": 50,
   "id": "aa158844",
   "metadata": {},
   "outputs": [
    {
     "name": "stdout",
     "output_type": "stream",
     "text": [
      "1\n"
     ]
    }
   ],
   "source": [
    "\n",
    "result = power(5, 0)\n",
    "print(result)  "
   ]
  },
  {
   "cell_type": "code",
   "execution_count": 51,
   "id": "ec44911e-7820-46cc-96a3-4ca443888837",
   "metadata": {},
   "outputs": [
    {
     "name": "stdout",
     "output_type": "stream",
     "text": [
      "5\n"
     ]
    }
   ],
   "source": [
    "# Write a Python function to accept a list and return its length without using the built-in len() function.\n",
    "def list_length(lst):\n",
    "    count = 0\n",
    "    for item in lst:\n",
    "        count += 1\n",
    "    return count\n",
    "my_list = [1, 2, 3, 4, 5]\n",
    "result = list_length(my_list)\n",
    "print(result)  \n"
   ]
  },
  {
   "cell_type": "code",
   "execution_count": 52,
   "id": "fb4c08e1-34f3-487a-a1c6-77cd60fb4836",
   "metadata": {},
   "outputs": [
    {
     "name": "stdout",
     "output_type": "stream",
     "text": [
      "Sum of positional arguments: 10\n",
      "Sum of positional arguments: 11\n"
     ]
    }
   ],
   "source": [
    "# Write a Python function that accepts both positional and keyword arguments and prints the sum of positional arguments.\n",
    "def sum_positional(*args, **kwargs):\n",
    "    total = sum(args)  \n",
    "    print(\"Sum of positional arguments:\", total)\n",
    "sum_positional(1, 2, 3, 4)  \n",
    "sum_positional(5, 6, a=10, b=20)  \n"
   ]
  },
  {
   "cell_type": "code",
   "execution_count": 55,
   "id": "f4ffc7a8-f579-461c-b507-4085a0477283",
   "metadata": {},
   "outputs": [
    {
     "name": "stdout",
     "output_type": "stream",
     "text": [
      "20\n"
     ]
    }
   ],
   "source": [
    "# Write a Python function to find the maximum of two numbers using keyword arguments.\n",
    "def find_maximum(**kwargs):\n",
    "    num1 = kwargs.get('num1')\n",
    "    num2 = kwargs.get('num2')\n",
    "    \n",
    "    if num1 is not None and num2 is not None:\n",
    "        return max(num1, num2)\n",
    "    else:\n",
    "        return \"Both 'num1' and 'num2' are required.\"\n",
    "result = find_maximum(num1=10, num2=20)\n",
    "print(result)  "
   ]
  },
  {
   "cell_type": "code",
   "execution_count": 56,
   "id": "066a12a9",
   "metadata": {},
   "outputs": [
    {
     "name": "stdout",
     "output_type": "stream",
     "text": [
      "5\n"
     ]
    }
   ],
   "source": [
    "result = find_maximum(num1=5, num2=3)\n",
    "print(result)  "
   ]
  },
  {
   "cell_type": "code",
   "execution_count": 57,
   "id": "0b00c4af-89e0-43e8-a991-1b684d2ce33f",
   "metadata": {},
   "outputs": [
    {
     "name": "stdout",
     "output_type": "stream",
     "text": [
      "24\n"
     ]
    }
   ],
   "source": [
    "# Write a Python function that accepts a list of numbers and returns their product.\n",
    "def product_of_list(numbers):\n",
    "    product = 1\n",
    "    for num in numbers:\n",
    "        product *= num\n",
    "    return product\n",
    "numbers = [2, 3, 4]\n",
    "result = product_of_list(numbers)\n",
    "print(result)  \n"
   ]
  },
  {
   "cell_type": "code",
   "execution_count": 58,
   "id": "5644df6c",
   "metadata": {},
   "outputs": [
    {
     "name": "stdout",
     "output_type": "stream",
     "text": [
      "35\n"
     ]
    }
   ],
   "source": [
    "numbers = [1, 5, 7]\n",
    "result = product_of_list(numbers)\n",
    "print(result)  "
   ]
  },
  {
   "cell_type": "code",
   "execution_count": 59,
   "id": "9cd11703-5b48-44fe-af4e-ea906a2762c9",
   "metadata": {},
   "outputs": [
    {
     "name": "stdout",
     "output_type": "stream",
     "text": [
      "Even\n"
     ]
    }
   ],
   "source": [
    "# Write a Python function to check if a number is even or odd using the modulo operator.\n",
    "def check_even_odd(number):\n",
    "    if number % 2 == 0:\n",
    "        return \"Even\"\n",
    "    else:\n",
    "        return \"Odd\"\n",
    "result = check_even_odd(4)\n",
    "print(result)  "
   ]
  },
  {
   "cell_type": "code",
   "execution_count": 60,
   "id": "08809d80",
   "metadata": {},
   "outputs": [
    {
     "name": "stdout",
     "output_type": "stream",
     "text": [
      "Odd\n"
     ]
    }
   ],
   "source": [
    "result = check_even_odd(7)\n",
    "print(result) "
   ]
  },
  {
   "cell_type": "code",
   "execution_count": 62,
   "id": "afbf262e-daed-40a9-827f-82fa60979610",
   "metadata": {},
   "outputs": [
    {
     "name": "stdout",
     "output_type": "stream",
     "text": [
      "[1, 4, 9, 16, 25, 36, 49, 64, 81, 100]\n"
     ]
    }
   ],
   "source": [
    "# Write a Python program to create a list of squares of numbers from 1 to 10 using list comprehension.\n",
    "squares = [x**2 for x in range(1, 11)]\n",
    "print(squares)\n"
   ]
  },
  {
   "cell_type": "code",
   "execution_count": 63,
   "id": "7fff76d8-9ba8-4006-9be6-6f7350092d1c",
   "metadata": {},
   "outputs": [
    {
     "name": "stdout",
     "output_type": "stream",
     "text": [
      "[1, 3, 5, 7, 9]\n"
     ]
    }
   ],
   "source": [
    "# Write a Python program to filter out all even numbers from a list using list comprehension.\n",
    "numbers = [1, 2, 3, 4, 5, 6, 7, 8, 9, 10]\n",
    "odd_numbers = [x for x in numbers if x % 2 != 0]\n",
    "print(odd_numbers)\n"
   ]
  },
  {
   "cell_type": "code",
   "execution_count": 64,
   "id": "6ae9b8df-38f9-4fd7-bad1-aa7b07cc9271",
   "metadata": {},
   "outputs": [
    {
     "name": "stdout",
     "output_type": "stream",
     "text": [
      "['apple', 'banana', 'elephant']\n"
     ]
    }
   ],
   "source": [
    "# Write a Python program to create a list of strings that are longer than 4 characters from a given list of words using list comprehension.\n",
    "words = [\"apple\", \"banana\", \"cat\", \"dog\", \"elephant\", \"kiwi\"]\n",
    "long_words = [word for word in words if len(word) > 4]\n",
    "print(long_words)\n"
   ]
  },
  {
   "cell_type": "code",
   "execution_count": 65,
   "id": "f492c7d4-6ad3-48ab-9b61-232be02aecee",
   "metadata": {},
   "outputs": [
    {
     "name": "stdout",
     "output_type": "stream",
     "text": [
      "['H', 'W', 'P', 'G', 'R', 'E', 'A', 'T']\n"
     ]
    }
   ],
   "source": [
    "# Write a Python program to create a list of all uppercase letters in a string using list comprehension.\n",
    "input_string = \"Hello World! Python is GREAT.\"\n",
    "uppercase_letters = [char for char in input_string if char.isupper()]\n",
    "print(uppercase_letters)\n"
   ]
  },
  {
   "cell_type": "code",
   "execution_count": 66,
   "id": "929a7f74-1762-4a2a-be23-bacf67ff4d8b",
   "metadata": {},
   "outputs": [
    {
     "name": "stdout",
     "output_type": "stream",
     "text": [
      "[0, 1, 1, 2, 3, 5, 8, 13, 21, 34]\n"
     ]
    }
   ],
   "source": [
    "# Write a Python program to generate the first n Fibonacci numbers using list comprehension.\n",
    "def fibonacci(n):\n",
    "    fib_sequence = [0, 1]  \n",
    "    [fib_sequence.append(fib_sequence[-2] + fib_sequence[-1]) for _ in range(2, n)]  \n",
    "    return fib_sequence[:n]\n",
    "n = 10\n",
    "fibonacci_numbers = fibonacci(n)\n",
    "print(fibonacci_numbers)\n"
   ]
  },
  {
   "cell_type": "code",
   "execution_count": 67,
   "id": "47188bbc-cf62-47bb-a14e-0582c8b5cdd9",
   "metadata": {},
   "outputs": [
    {
     "name": "stdout",
     "output_type": "stream",
     "text": [
      "{1: 1, 2: 4, 3: 9, 4: 16, 5: 25}\n"
     ]
    }
   ],
   "source": [
    "# Write a Python program to create a dictionary where keys are numbers and values are their squares using dictionary comprehension.\n",
    "numbers = [1, 2, 3, 4, 5]\n",
    "squares_dict = {x: x**2 for x in numbers}\n",
    "print(squares_dict)\n"
   ]
  },
  {
   "cell_type": "code",
   "execution_count": 68,
   "id": "3c4637d3-aa85-4b4c-acf3-953c10818bcb",
   "metadata": {},
   "outputs": [
    {
     "name": "stdout",
     "output_type": "stream",
     "text": [
      "{'a': 1, 'b': 2, 'c': 3, 'd': 4}\n"
     ]
    }
   ],
   "source": [
    "# Write a Python program to create a dictionary from two lists (one for keys and one for values) using dictionary comprehension.\n",
    "keys = ['a', 'b', 'c', 'd']\n",
    "values = [1, 2, 3, 4]\n",
    "dict_from_lists = {keys[i]: values[i] for i in range(len(keys))}\n",
    "\n",
    "print(dict_from_lists)\n"
   ]
  },
  {
   "cell_type": "code",
   "execution_count": 69,
   "id": "de817d6f-96e7-4346-839e-1ef0df539b6b",
   "metadata": {},
   "outputs": [
    {
     "name": "stdout",
     "output_type": "stream",
     "text": [
      "{1: 1, 2: 8, 3: 27, 4: 64, 5: 125}\n"
     ]
    }
   ],
   "source": [
    "# Write a Python program to create a dictionary of numbers from 1 to 5 and their cubes using dictionary comprehension.\n",
    "numbers_cubes = {x: x**3 for x in range(1, 6)}\n",
    "print(numbers_cubes)\n"
   ]
  },
  {
   "cell_type": "code",
   "execution_count": 70,
   "id": "33695301-057e-49a6-9f80-a2f4e3af60ed",
   "metadata": {},
   "outputs": [
    {
     "name": "stdout",
     "output_type": "stream",
     "text": [
      "[1, 4, 9, 16, 25]\n"
     ]
    }
   ],
   "source": [
    "# Write a Python program to square each element of a list using the map() function.\n",
    "numbers = [1, 2, 3, 4, 5]\n",
    "squared_numbers = list(map(lambda x: x**2, numbers))\n",
    "print(squared_numbers)\n"
   ]
  },
  {
   "cell_type": "code",
   "execution_count": 71,
   "id": "6d4d17f3-c40f-4944-8656-c6416b600361",
   "metadata": {},
   "outputs": [
    {
     "name": "stdout",
     "output_type": "stream",
     "text": [
      "[2, 4, 6, 8, 10]\n"
     ]
    }
   ],
   "source": [
    "# Write a Python program to filter all even numbers from a list using the filter() function.\n",
    "numbers = [1, 2, 3, 4, 5, 6, 7, 8, 9, 10]\n",
    "even_numbers = list(filter(lambda x: x % 2 == 0, numbers))\n",
    "\n",
    "print(even_numbers)\n"
   ]
  },
  {
   "cell_type": "code",
   "execution_count": 72,
   "id": "6634ba1f-9f81-475e-b7c4-422d102afb75",
   "metadata": {},
   "outputs": [
    {
     "name": "stdout",
     "output_type": "stream",
     "text": [
      "[15, 30, 45, 60]\n"
     ]
    }
   ],
   "source": [
    "# Write a Python program to use a lambda function to check if a number is divisible by both 3 and 5.\n",
    "\n",
    "is_divisible_by_3_and_5 = lambda x: x % 3 == 0 and x % 5 == 0\n",
    "numbers = [15, 30, 10, 9, 45, 60, 7]\n",
    "divisible_numbers = list(filter(is_divisible_by_3_and_5, numbers))\n",
    "\n",
    "print(divisible_numbers)\n"
   ]
  },
  {
   "cell_type": "code",
   "execution_count": 73,
   "id": "0aac8430-5d77-439d-9a99-9598fadf989c",
   "metadata": {},
   "outputs": [
    {
     "name": "stdout",
     "output_type": "stream",
     "text": [
      "[2, 4, 6, 8, 10]\n"
     ]
    }
   ],
   "source": [
    "# Write a Python program to multiply all numbers in a list by 2 using a lambda function inside map().\n",
    "numbers = [1, 2, 3, 4, 5]\n",
    "doubled_numbers = list(map(lambda x: x * 2, numbers))\n",
    "\n",
    "print(doubled_numbers)\n"
   ]
  },
  {
   "cell_type": "code",
   "execution_count": 74,
   "id": "e4cd5ba8-c6ec-4f0d-8787-bf0a4b7a2e22",
   "metadata": {},
   "outputs": [
    {
     "name": "stdout",
     "output_type": "stream",
     "text": [
      "[1, 3, 4, 5, 6]\n"
     ]
    }
   ],
   "source": [
    "# Write a Python program to remove all occurrences of a specific element from a list.\n",
    "numbers = [1, 2, 3, 4, 2, 5, 2, 6]\n",
    "element_to_remove = 2\n",
    "filtered_numbers = [x for x in numbers if x != element_to_remove]\n",
    "\n",
    "print(filtered_numbers)\n"
   ]
  },
  {
   "cell_type": "markdown",
   "id": "caba77c7-93db-4893-8f48-c7365ed5c585",
   "metadata": {},
   "source": [
    "**Note:** \n",
    "- All assignments must follow [PEP 8 – Style Guide for Python Code](https://peps.python.org/pep-0008/) guidelines.\n",
    "- You can add multiple solutions for each question. Create a new code cell next to the question and add it. Shortcut for creating cell : `Alt + Enter`"
   ]
  }
 ],
 "metadata": {
  "kernelspec": {
   "display_name": "Python 3 (ipykernel)",
   "language": "python",
   "name": "python3"
  },
  "language_info": {
   "codemirror_mode": {
    "name": "ipython",
    "version": 3
   },
   "file_extension": ".py",
   "mimetype": "text/x-python",
   "name": "python",
   "nbconvert_exporter": "python",
   "pygments_lexer": "ipython3",
   "version": "3.11.3"
  }
 },
 "nbformat": 4,
 "nbformat_minor": 5
}
